{
 "cells": [
  {
   "cell_type": "code",
   "execution_count": 1,
   "metadata": {},
   "outputs": [],
   "source": [
    "####################Kaggle Username: oortega20#########################\n",
    "import numpy as np\n",
    "import scipy.io as sio\n",
    "import matplotlib.pyplot as plt\n",
    "import pandas as pd"
   ]
  },
  {
   "cell_type": "code",
   "execution_count": 92,
   "metadata": {},
   "outputs": [],
   "source": [
    "#############################Problem 1##########################################\n",
    "reg = 0.07\n",
    "X = np.array([[0,3,1],[1,3,1],[0,1,1],[1,1,1]])\n",
    "y = np.array([1,1,0,0]).reshape((-1,1))\n",
    "\n",
    "def sigmoid_fn(X, w):\n",
    "    gamma = X @ w\n",
    "    return 1 / (1 + np.exp(-gamma))\n",
    "\n",
    "\n",
    "\n",
    "\n",
    "\n",
    "def newtons(data, labels,reg, num_iters = 2):\n",
    "    w = np.zeros((data.shape[1], 1))\n",
    "    s_i = sigmoid_fn(data, w)\n",
    "    print(s_i, 'Value for s', 0)\n",
    "    for i in range(num_iters):\n",
    "        grad = gradient(data,w,labels, reg)\n",
    "        s_i = sigmoid_fn(data, w)\n",
    "        prod = np.multiply(s_i, 1 -s_i)\n",
    "        omega = prod * np.eye(len(data))\n",
    "        hessian = data.T @ omega @  data\n",
    "        eps = np.linalg.solve(hessian, grad)\n",
    "        w = w - eps\n",
    "        print(w, 'value for w', i + 1)\n",
    "        s_i = sigmoid_fn(data,w)\n",
    "        \n",
    "        print(s_i, 'value for s', i + 1)\n",
    "       "
   ]
  },
  {
   "cell_type": "code",
   "execution_count": 93,
   "metadata": {},
   "outputs": [
    {
     "name": "stdout",
     "output_type": "stream",
     "text": [
      "[[0.5]\n",
      " [0.5]\n",
      " [0.5]\n",
      " [0.5]] Value for s 0\n",
      "[[ 0.]\n",
      " [ 2.]\n",
      " [-4.]] value for w 1\n",
      "[[0.88079708]\n",
      " [0.88079708]\n",
      " [0.11920292]\n",
      " [0.11920292]] value for s 1\n",
      "[[-2.66682959]\n",
      " [-0.1982017 ]\n",
      " [ 3.06323299]] value for w 2\n",
      "[[0.92191304]\n",
      " [0.45061115]\n",
      " [0.94609049]\n",
      " [0.54938885]] value for s 2\n"
     ]
    }
   ],
   "source": [
    "newtons(X, y, reg)"
   ]
  },
  {
   "cell_type": "code",
   "execution_count": 2,
   "metadata": {},
   "outputs": [],
   "source": [
    "#############################Problem 4###########################################\n",
    "WINE = sio.loadmat('data.mat')"
   ]
  },
  {
   "cell_type": "markdown",
   "metadata": {},
   "source": [
    "Part A:\n",
    "$$J(w) =  \\lambda \\|w\\|_{2}^{2} - \\sum_{i = 1}^{n}( y_i \\ln s_i + (1 - y_i) ln(1 - s_i)$$\n",
    "$$ \\nabla w = 2\\lambda w - \\sum_{i = 1}^{n} y_i \\frac{1}{s_i}s_i' + (1 - y_i) \\frac{1}{1 - s_i} -s_i'$$\n",
    "$$ \\nabla w = 2\\lambda w - \\sum_{i = 1}^{n} (y_i \\frac{1}{s_i}s_i(1 - s_i) + (1 - y_i) \\frac{1}{1 - s_i} -(s_i)(1 - s_i))X_i$$\n",
    "$$ \\nabla w = 2\\lambda w - X^{T}(y - s)$$\n",
    "\n",
    "This implies that the batch gradient update formula is as follows:\n",
    "$$w_{k + 1} = w_{k} - \\alpha(2\\lambda w  - X^{T}(y - s))$$\n",
    "Where alpha is the learning rate."
   ]
  },
  {
   "cell_type": "code",
   "execution_count": 29,
   "metadata": {},
   "outputs": [],
   "source": [
    "train_data, train_labels = WINE['X'], WINE['y']\n",
    "SEED = 42\n",
    "np.random.seed(SEED)\n",
    "reg = 1\n",
    "alpha = 1e-6"
   ]
  },
  {
   "cell_type": "code",
   "execution_count": 52,
   "metadata": {},
   "outputs": [],
   "source": [
    "def accuracy(pred, actual):\n",
    "    correct = 0\n",
    "    for i in range(len(pred)):\n",
    "        if pred[i] == actual[i]:\n",
    "            correct += 1\n",
    "    return correct / len(pred)\n",
    "\n",
    "def gradient(X, w, y, reg):\n",
    "    s_m = sigmoid_fn(X, w)\n",
    "    reg_term = 2 * reg\n",
    "    return  (reg_term * w) - (X.T @ (y - s_m))\n",
    "\n",
    "def gradient_stoch(X, w, y, reg):\n",
    "    s_m = sigmoid_fn(X, w)\n",
    "    return (2 * reg * w) - (y - s_m) * X\n",
    "\n",
    "def sigmoid_fn(X, w):\n",
    "    gamma = X @ w\n",
    "    return 1 / (1 + np.exp(-gamma))\n",
    "\n",
    "def compute_batch_loss(reg, w, data, labels):\n",
    "    l_w_norm = reg * (np.linalg.norm(w) ** 2)\n",
    "    s = sigmoid_fn(data, w)\n",
    "    return l_w_norm - ((labels.T @ np.log(s)) + ((1 - labels).T @ np.log(1 - s)))[0][0]\n"
   ]
  },
  {
   "cell_type": "code",
   "execution_count": 5,
   "metadata": {},
   "outputs": [],
   "source": [
    "def batch_gradient_descent(data, labels, alpha, reg, num_iters = 1000000):\n",
    "    losses = []\n",
    "    w = np.zeros((data.shape[1], 1))\n",
    "    for i in range(num_iters):\n",
    "        w = w - (alpha * gradient(data, w, labels, reg))\n",
    "        if i % 100 == 0:\n",
    "            l = compute_batch_loss(reg, w, data, labels)\n",
    "            losses.append(l)\n",
    "        if i % 20000 == 0:\n",
    "            print(l, \"loss at iter\", i)\n",
    "    return w, losses"
   ]
  },
  {
   "cell_type": "code",
   "execution_count": 7,
   "metadata": {},
   "outputs": [
    {
     "name": "stdout",
     "output_type": "stream",
     "text": [
      "21107.22397176709 loss at iter 0\n",
      "829.407289647531 loss at iter 20000\n",
      "713.7978928804923 loss at iter 40000\n",
      "645.2478178025785 loss at iter 60000\n",
      "605.4418220848523 loss at iter 80000\n",
      "587.7638903918303 loss at iter 100000\n",
      "575.1755021081589 loss at iter 120000\n",
      "565.9426209888879 loss at iter 140000\n",
      "559.0330453383187 loss at iter 160000\n",
      "553.7851942412057 loss at iter 180000\n",
      "549.7529382671897 loss at iter 200000\n",
      "546.6247166274126 loss at iter 220000\n",
      "544.1774896217282 loss at iter 240000\n",
      "542.248640967191 loss at iter 260000\n",
      "540.7179156928443 loss at iter 280000\n",
      "539.4953557018687 loss at iter 300000\n",
      "538.5130103513148 loss at iter 320000\n",
      "537.7191178184213 loss at iter 340000\n",
      "537.0739518719997 loss at iter 360000\n",
      "536.5468167249425 loss at iter 380000\n",
      "536.113847503228 loss at iter 400000\n",
      "535.7563842715795 loss at iter 420000\n",
      "535.4597594286863 loss at iter 440000\n",
      "535.2123862057833 loss at iter 460000\n",
      "535.0050685696856 loss at iter 480000\n",
      "534.8304753148216 loss at iter 500000\n",
      "534.6827368588533 loss at iter 520000\n",
      "534.5571343902351 loss at iter 540000\n",
      "534.4498589785779 loss at iter 560000\n",
      "534.3578240069004 loss at iter 580000\n",
      "534.2785184704328 loss at iter 600000\n",
      "534.2098917587438 loss at iter 620000\n",
      "534.1502628095262 loss at iter 640000\n",
      "534.0982482136753 loss at iter 660000\n",
      "534.0527051186662 loss at iter 680000\n",
      "534.0126857327023 loss at iter 700000\n",
      "533.9774009565143 loss at iter 720000\n",
      "533.9461912217987 loss at iter 740000\n",
      "533.9185030382039 loss at iter 760000\n",
      "533.8938700761996 loss at iter 780000\n",
      "533.8718978646967 loss at iter 800000\n",
      "533.852251377472 loss at iter 820000\n",
      "533.8346449345113 loss at iter 840000\n",
      "533.8188339632568 loss at iter 860000\n",
      "533.8046082580021 loss at iter 880000\n",
      "533.7917864490552 loss at iter 900000\n",
      "533.7802114512094 loss at iter 920000\n",
      "533.7697467069049 loss at iter 940000\n",
      "533.7602730758381 loss at iter 960000\n",
      "533.7516862517236 loss at iter 980000\n"
     ]
    }
   ],
   "source": [
    "w, batch_loss = batch_gradient_descent(train_data, train_labels, alpha, reg)"
   ]
  },
  {
   "cell_type": "code",
   "execution_count": 8,
   "metadata": {},
   "outputs": [
    {
     "data": {
      "image/png": "[encoded data removed]",
      "text/plain": [
       "<Figure size 1080x360 with 1 Axes>"
      ]
     },
     "metadata": {},
     "output_type": "display_data"
    }
   ],
   "source": [
    "plt.figure(figsize = (15, 5))\n",
    "plt.title('Loss versus the # of Iterations')\n",
    "plt.xlabel('Number of iterations / 100')\n",
    "plt.ylabel('Loss')\n",
    "plt.plot(list(range(len(batch_loss))), batch_loss)\n",
    "plt.show()"
   ]
  },
  {
   "cell_type": "markdown",
   "metadata": {},
   "source": [
    "Part b:\n",
    "$$J(w) =  \\lambda \\|w\\|_{2}^{2} - \\sum_{i = 1}^{n}( y_i \\ln s_i + (1 - y_i) ln(1 - s_i)$$\n",
    "$$\\nabla w = 2\\lambda w - \\sum_{i = 1}^{n} y_i \\frac{1}{s_i}s_i' + (1 - y_i) \\frac{1}{1 - s_i} -s_i'$$\n",
    "$$\\nabla w = 2\\lambda w - \\sum_{i = 1}^{n} (y_i \\frac{1}{s_i}s_i(1 - s_i) + (1 - y_i) \\frac{1}{1 - s_i} -(s_i)(1 - s_i))X_i$$\n",
    "$$\\nabla w = 2\\lambda w - X_{i}^{T}(y - s)$$\n",
    "\n",
    "When we are performing batch gradient descent, we only take the gradient with one of the sample points which implies that the batch gradient update formula is as follows:\n",
    "$$w_{k + 1} = w_{k} - \\alpha(2\\lambda w  - (y_i - s))X_i$$\n",
    "Where alpha is the learning rate and $X_i$ is the current training point we are using when computing the approximation to the gradient."
   ]
  },
  {
   "cell_type": "code",
   "execution_count": 9,
   "metadata": {},
   "outputs": [],
   "source": [
    "def stochastic_gradient_descent(data, labels, alpha, reg, num_iters = 1000000):\n",
    "    losses = []\n",
    "    num_points = data.shape[0]\n",
    "    w = np.zeros((data.shape[1], 1))\n",
    "    for i in range(num_iters):\n",
    "        w = w - (alpha * gradient_stoch(data[i % num_points,:], w, labels[i % num_points,:], reg))\n",
    "        if i % 100 == 0:\n",
    "            l = compute_batch_loss(reg, w, data, labels)\n",
    "            losses.append(l)\n",
    "        if i % 20000 == 0:\n",
    "            print(l, \"loss at iter\", i)\n",
    "    return w, losses"
   ]
  },
  {
   "cell_type": "code",
   "execution_count": 10,
   "metadata": {},
   "outputs": [
    {
     "name": "stdout",
     "output_type": "stream",
     "text": [
      "4158.768610707443 loss at iter 0\n",
      "3379.1978773859646 loss at iter 20000\n",
      "3066.249567017828 loss at iter 40000\n",
      "2925.3388146639077 loss at iter 60000\n",
      "2848.441339693245 loss at iter 80000\n",
      "2804.777735951122 loss at iter 100000\n",
      "2783.0803855687027 loss at iter 120000\n",
      "2767.0298036307354 loss at iter 140000\n",
      "2756.4617888980356 loss at iter 160000\n",
      "2753.4738093194624 loss at iter 180000\n",
      "2748.770963020351 loss at iter 200000\n",
      "2745.100659920013 loss at iter 220000\n",
      "2746.2986217933067 loss at iter 240000\n",
      "2744.260997977129 loss at iter 260000\n",
      "2742.2604569960645 loss at iter 280000\n",
      "2744.4910436482296 loss at iter 300000\n",
      "2743.11935797004 loss at iter 320000\n",
      "2741.539318242707 loss at iter 340000\n",
      "2744.031223529624 loss at iter 360000\n",
      "2742.8286157929006 loss at iter 380000\n",
      "2741.3555529257496 loss at iter 400000\n",
      "2743.9140199862577 loss at iter 420000\n",
      "2742.754513973469 loss at iter 440000\n",
      "2741.3087347134897 loss at iter 460000\n",
      "2743.8841819924223 loss at iter 480000\n",
      "2742.7356728128952 loss at iter 500000\n",
      "2741.2968545341537 loss at iter 520000\n",
      "2743.876633386002 loss at iter 540000\n",
      "2742.7309287907265 loss at iter 560000\n",
      "2741.2938850512755 loss at iter 580000\n",
      "2743.874767310013 loss at iter 600000\n",
      "2742.729776463538 loss at iter 620000\n",
      "2741.2931836362077 loss at iter 640000\n",
      "2743.8743455425188 loss at iter 660000\n",
      "2742.729534988335 loss at iter 680000\n",
      "2741.2930554480236 loss at iter 700000\n",
      "2743.8742869711004 loss at iter 720000\n",
      "2742.729520765824 loss at iter 740000\n",
      "2741.293068544695 loss at iter 760000\n",
      "2743.874316279155 loss at iter 780000\n",
      "2742.7295599141635 loss at iter 800000\n",
      "2741.29311324881 loss at iter 820000\n",
      "2743.8743637366797 loss at iter 840000\n",
      "2742.7296085658354 loss at iter 860000\n",
      "2741.293162054379 loss at iter 880000\n",
      "2743.8744120089905 loss at iter 900000\n",
      "2742.729655964764 loss at iter 920000\n",
      "2741.2932083608184 loss at iter 940000\n",
      "2743.874457072105 loss at iter 960000\n",
      "2742.7296997484245 loss at iter 980000\n"
     ]
    }
   ],
   "source": [
    "reg = 1\n",
    "alpha = 1e-7\n",
    "w, stoch_loss = stochastic_gradient_descent(train_data, train_labels, alpha, reg)"
   ]
  },
  {
   "cell_type": "code",
   "execution_count": 11,
   "metadata": {},
   "outputs": [
    {
     "data": {
      "image/png": "[encoded data removed]",
      "text/plain": [
       "<Figure size 1080x360 with 1 Axes>"
      ]
     },
     "metadata": {},
     "output_type": "display_data"
    }
   ],
   "source": [
    "plt.figure(figsize = (15, 5))\n",
    "plt.title('Loss versus the # of Iterations')\n",
    "plt.xlabel('Number of iterations / 100')\n",
    "plt.ylabel('Loss')\n",
    "plt.plot(list(range(len(stoch_loss))), stoch_loss)\n",
    "plt.show()"
   ]
  },
  {
   "cell_type": "markdown",
   "metadata": {},
   "source": [
    "Things to note between the differences of convergence of batch gradient descent and regular gradient descent:\n",
    "\n",
    "\n",
    "1: Batch gradient descent achieves a much lower loss\n",
    "\n",
    "\n",
    "2: Stochastic gradient descent had a tendency to oscillate more around its minima, while BGD continued to go down slightly.\n",
    "\n",
    "\n",
    "3: Stochastic gradient descent also tends to converge at a slowere rate when compared to batch gradient descent."
   ]
  },
  {
   "cell_type": "code",
   "execution_count": 12,
   "metadata": {},
   "outputs": [],
   "source": [
    "def stochastic_gradient_descent_cool(data, labels, alpha, reg, num_iters = 1000000):\n",
    "    losses = []\n",
    "    num_points = data.shape[0]\n",
    "    w = np.zeros((data.shape[1], 1))\n",
    "    alpha_init = alpha\n",
    "    for i in range(num_iters):\n",
    "        alpha = alpha_init / (num_iters + 1)\n",
    "        w = w - (alpha * gradient_stoch(data[i % num_points,:], w, labels[i % num_points,:], reg))\n",
    "        if i % 100 == 0:\n",
    "            l = compute_batch_loss(reg, w, data, labels)\n",
    "            losses.append(l)\n",
    "        if i % 20000 == 0:\n",
    "            print(l, \"loss at iter\", i)\n",
    "    return w, losses"
   ]
  },
  {
   "cell_type": "code",
   "execution_count": 14,
   "metadata": {},
   "outputs": [
    {
     "name": "stdout",
     "output_type": "stream",
     "text": [
      "4157.73856271834 loss at iter 0\n",
      "2751.153504669174 loss at iter 20000\n",
      "2733.9513179686714 loss at iter 40000\n",
      "2758.8951946455377 loss at iter 60000\n",
      "2745.2099901428387 loss at iter 80000\n",
      "2733.8912604329275 loss at iter 100000\n",
      "2758.895017873082 loss at iter 120000\n",
      "2745.2103429364256 loss at iter 140000\n",
      "2733.8915220373497 loss at iter 160000\n",
      "2758.8952092950544 loss at iter 180000\n",
      "2745.21048472666 loss at iter 200000\n",
      "2733.8916281360184 loss at iter 220000\n",
      "2758.8952891607546 loss at iter 240000\n",
      "2745.2105455322417 loss at iter 260000\n",
      "2733.891674854658 loss at iter 280000\n",
      "2758.8953252540723 loss at iter 300000\n",
      "2745.2105737020984 loss at iter 320000\n",
      "2733.8916970248747 loss at iter 340000\n",
      "2758.895342795989 loss at iter 360000\n",
      "2745.2105877156205 loss at iter 380000\n",
      "2733.8917083109077 loss at iter 400000\n",
      "2758.895351935497 loss at iter 420000\n",
      "2745.2105951862013 loss at iter 440000\n",
      "2733.8917144669967 loss at iter 460000\n",
      "2758.895357036995 loss at iter 480000\n",
      "2745.210599452043 loss at iter 500000\n",
      "2733.891718062505 loss at iter 520000\n",
      "2758.8953600838995 loss at iter 540000\n",
      "2745.210602055691 loss at iter 560000\n",
      "2733.891720303852 loss at iter 580000\n",
      "2758.895362022389 loss at iter 600000\n",
      "2745.2106037444605 loss at iter 620000\n",
      "2733.8917217845274 loss at iter 640000\n",
      "2758.8953633252368 loss at iter 660000\n",
      "2745.210604897645 loss at iter 680000\n",
      "2733.8917228105993 loss at iter 700000\n",
      "2758.895364240322 loss at iter 720000\n",
      "2745.2106057175 loss at iter 740000\n",
      "2733.8917235481513 loss at iter 760000\n",
      "2758.895364904615 loss at iter 780000\n",
      "2745.2106063178726 loss at iter 800000\n",
      "2733.8917240924657 loss at iter 820000\n",
      "2758.8953653982358 loss at iter 840000\n",
      "2745.210606766668 loss at iter 860000\n",
      "2733.8917245014995 loss at iter 880000\n",
      "2758.895365770879 loss at iter 900000\n",
      "2745.210607106813 loss at iter 920000\n",
      "2733.891724812578 loss at iter 940000\n",
      "2758.895366055127 loss at iter 960000\n",
      "2745.2106073669333 loss at iter 980000\n"
     ]
    }
   ],
   "source": [
    "alpha = 1\n",
    "w, stoch_cool_loss = stochastic_gradient_descent_cool(train_data, train_labels, alpha, reg)"
   ]
  },
  {
   "cell_type": "code",
   "execution_count": 15,
   "metadata": {},
   "outputs": [
    {
     "data": {
      "image/png": "[encoded data removed]",
      "text/plain": [
       "<Figure size 1080x360 with 1 Axes>"
      ]
     },
     "metadata": {},
     "output_type": "display_data"
    }
   ],
   "source": [
    "plt.figure(figsize = (15, 5))\n",
    "plt.title('Loss versus the # of Iterations')\n",
    "plt.xlabel('Number of iterations / 100')\n",
    "plt.ylabel('Loss')\n",
    "plt.plot(list(range(len(stoch_cool_loss))), stoch_cool_loss)\n",
    "plt.show()"
   ]
  },
  {
   "cell_type": "markdown",
   "metadata": {},
   "source": [
    "In comparison to the stochastic gradient descent implementation without the learning rate that cools, This implementation of stochastic gradient descent appears to converge at a much faster rate, although it also appears that the oscillaton as a function of the number of iterations appears to be much greater than that of the original stochastic gradient descent. This probably has to do with my learning rate."
   ]
  },
  {
   "cell_type": "code",
   "execution_count": 53,
   "metadata": {},
   "outputs": [],
   "source": [
    "############Part D#############################################################################################################\n",
    "\n",
    "\n",
    "def logistic_regression(w, data, threshhold):\n",
    "    predictions = []\n",
    "    for i in range(len(data)):\n",
    "        label = data[i]\n",
    "        prob = sigmoid_fn(label, w)\n",
    "        if prob > threshhold:\n",
    "            predictions.append(1)\n",
    "        else:\n",
    "            predictions.append(0)\n",
    "    return np.array(predictions).reshape((-1,1))"
   ]
  },
  {
   "cell_type": "code",
   "execution_count": 59,
   "metadata": {},
   "outputs": [],
   "source": [
    "###################Newton's method for Kaggle###############################\n",
    "def newtons(data, labels, alpha, reg, num_iters = 50):\n",
    "    w = np.zeros((data.shape[1], 1))\n",
    "    print('reg', reg)\n",
    "    for i in range(num_iters):\n",
    "        grad = gradient(data,w,labels, reg)\n",
    "        s_i = sigmoid_fn(data, w)\n",
    "        prod = np.multiply(s_i, 1 -s_i)\n",
    "        omega = prod * np.eye(len(data))\n",
    "        hessian = data.T @ omega @  data\n",
    "        try:\n",
    "            eps = np.linalg.solve(hessian, grad)\n",
    "        except:\n",
    "            eps = np.linalg.lstsq(hessian, grad)\n",
    "        w = w - (alpha * eps)\n",
    "        if i % 10 == 0:\n",
    "            l = compute_batch_loss(reg, w, data, labels)\n",
    "            print(l, ': num_iter', i)\n",
    "    return w.reshape((-1,1))"
   ]
  },
  {
   "cell_type": "code",
   "execution_count": 61,
   "metadata": {},
   "outputs": [
    {
     "name": "stdout",
     "output_type": "stream",
     "text": [
      "(6000, 13)\n",
      "(1200, 12) (1200, 1) (4800, 12) (4800, 1)\n",
      "0 current lambda\n",
      "reg 0\n",
      "963.43293622839 : num_iter 0\n",
      "219.8204453888843 : num_iter 10\n",
      "219.82044538888425 : num_iter 20\n",
      "219.8204453888842 : num_iter 30\n",
      "219.8204453888842 : num_iter 40\n",
      "0.9891666666666666 this is validation set accuracy\n",
      "1e-10 current lambda\n",
      "reg 1e-10\n",
      "963.4329362418166 : num_iter 0\n",
      "219.82044571760383 : num_iter 10\n",
      "219.8204457176039 : num_iter 20\n",
      "219.82044571760383 : num_iter 30\n",
      "219.82044571760386 : num_iter 40\n",
      "0.9891666666666666 this is validation set accuracy\n",
      "1e-09 current lambda\n",
      "reg 1e-09\n",
      "963.432936362656 : num_iter 0\n",
      "219.8204486760795 : num_iter 10\n",
      "219.82044867607956 : num_iter 20\n",
      "219.8204486760795 : num_iter 30\n",
      "219.8204486760795 : num_iter 40\n",
      "0.9891666666666666 this is validation set accuracy\n",
      "1e-08 current lambda\n",
      "reg 1e-08\n",
      "963.4329375710507 : num_iter 0\n",
      "219.82047826082277 : num_iter 10\n",
      "219.8204782608228 : num_iter 20\n",
      "219.8204782608227 : num_iter 30\n",
      "219.82047826082263 : num_iter 40\n",
      "0.9891666666666666 this is validation set accuracy\n",
      "1e-07 current lambda\n",
      "reg 1e-07\n",
      "963.432949654998 : num_iter 0\n",
      "219.82077410684917 : num_iter 10\n",
      "219.8207741068492 : num_iter 20\n",
      "219.82077410684903 : num_iter 30\n",
      "219.82077410684917 : num_iter 40\n",
      "0.9891666666666666 this is validation set accuracy\n",
      "1e-06 current lambda\n",
      "reg 1e-06\n",
      "963.4330704944699 : num_iter 0\n",
      "219.82373242647174 : num_iter 10\n",
      "219.8237324264717 : num_iter 20\n",
      "219.82373242647176 : num_iter 30\n",
      "219.8237324264717 : num_iter 40\n",
      "0.9891666666666666 this is validation set accuracy\n",
      "1e-05 current lambda\n",
      "reg 1e-05\n",
      "963.4342788891897 : num_iter 0\n",
      "219.8533015692745 : num_iter 10\n",
      "219.8533015692745 : num_iter 20\n",
      "219.85330156927463 : num_iter 30\n",
      "219.85330156927452 : num_iter 40\n",
      "0.9891666666666666 this is validation set accuracy\n",
      "0.0001 current lambda\n",
      "reg 0.0001\n",
      "963.4463628363882 : num_iter 0\n",
      "220.1475981838556 : num_iter 10\n",
      "220.1475981838555 : num_iter 20\n",
      "220.14759818385556 : num_iter 30\n",
      "220.1475981838556 : num_iter 40\n",
      "0.9891666666666666 this is validation set accuracy\n",
      "0.001 current lambda\n",
      "reg 0.001\n",
      "963.5672023083721 : num_iter 0\n",
      "222.96069891623694 : num_iter 10\n",
      "222.96069891623685 : num_iter 20\n",
      "222.96069891623694 : num_iter 30\n",
      "222.960698916237 : num_iter 40\n",
      "0.9891666666666666 this is validation set accuracy\n",
      "0.01 current lambda\n",
      "reg 0.01\n",
      "964.7755970282111 : num_iter 0\n",
      "243.25036917261772 : num_iter 10\n",
      "243.25036917194933 : num_iter 20\n",
      "243.25036917194933 : num_iter 30\n",
      "243.25036917194936 : num_iter 40\n",
      "0.9858333333333333 this is validation set accuracy\n"
     ]
    }
   ],
   "source": [
    "alpha = 1\n",
    "split_size, threshold = 4800, 0.5\n",
    "total_data = np.hstack([train_data, train_labels])\n",
    "print(total_data.shape)\n",
    "np.random.shuffle(total_data)\n",
    "t_data, t_labels = total_data[:,:-1], total_data[:, -1:]\n",
    "\n",
    "t_s_data, t_s_labels = t_data[:split_size], t_labels[:split_size]\n",
    "val_data, val_labels = t_data[split_size:], t_labels[split_size:]\n",
    "print(val_data.shape, val_labels.shape, t_s_data.shape, t_s_labels.shape)\n",
    "w_lengths = [0] + [10 ** x for x in range(-10 , -1)]\n",
    "accuracies = []\n",
    "for length in w_lengths:\n",
    "    print(length, 'current lambda')\n",
    "    w = newtons(t_s_data, t_s_labels, alpha, length)\n",
    "    pred = logistic_regression(w, val_data, threshold)\n",
    "    acc = accuracy(pred, val_labels)\n",
    "    print(acc, 'this is validation set accuracy')\n",
    "    accuracies.append((length, acc))\n",
    "    "
   ]
  },
  {
   "cell_type": "markdown",
   "metadata": {},
   "source": [
    "Kaggle Username: oortega20\n",
    "Best Score: .97986 %\n",
    "\n",
    "#####Write-Up#########################\n",
    "\n",
    "\n",
    "For classifying the test data, I used hyper-parameter tuning of the regularization hyper-parameter lambda and found that the best value, in terms of the values I tried,classifying the validation data set was 1e-6. I used newtons method and ran for 50 iterations because I noticed that the loss would converge by that point."
   ]
  },
  {
   "cell_type": "code",
   "execution_count": 62,
   "metadata": {},
   "outputs": [],
   "source": [
    "\n",
    "def results_to_csv(pred):\n",
    "    pred = pred.astype(int)\n",
    "    df = pd.DataFrame({'Category': pred})\n",
    "    df.index += 1\n",
    "    df.to_csv('submission.csv', index_label = 'Id')\n"
   ]
  },
  {
   "cell_type": "code",
   "execution_count": 67,
   "metadata": {},
   "outputs": [
    {
     "name": "stdout",
     "output_type": "stream",
     "text": [
      "reg 1e-06\n",
      "963.4330704944699 : num_iter 0\n",
      "219.82373242647174 : num_iter 10\n",
      "219.8237324264717 : num_iter 20\n",
      "219.82373242647176 : num_iter 30\n",
      "219.8237324264717 : num_iter 40\n"
     ]
    }
   ],
   "source": [
    "reg = 1e-6\n",
    "t_data = WINE['X_test']\n",
    "w = newtons(t_s_data, t_s_labels, alpha, reg)"
   ]
  },
  {
   "cell_type": "code",
   "execution_count": 77,
   "metadata": {},
   "outputs": [
    {
     "name": "stdout",
     "output_type": "stream",
     "text": [
      "(497,)\n"
     ]
    }
   ],
   "source": [
    "pred = logistic_regression(w, t_data, threshold).reshape((-1,))\n",
    "print(pred.shape)"
   ]
  },
  {
   "cell_type": "code",
   "execution_count": 78,
   "metadata": {},
   "outputs": [],
   "source": [
    "results_to_csv(pred)"
   ]
  },
  {
   "cell_type": "code",
   "execution_count": null,
   "metadata": {},
   "outputs": [],
   "source": []
  }
 ],
 "metadata": {
  "kernelspec": {
   "display_name": "Python 3",
   "language": "python",
   "name": "python3"
  },
  "language_info": {
   "codemirror_mode": {
    "name": "ipython",
    "version": 3
   },
   "file_extension": ".py",
   "mimetype": "text/x-python",
   "name": "python",
   "nbconvert_exporter": "python",
   "pygments_lexer": "ipython3",
   "version": "3.6.5"
  }
 },
 "nbformat": 4,
 "nbformat_minor": 2
}
