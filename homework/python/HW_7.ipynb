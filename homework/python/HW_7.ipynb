{
 "cells": [
  {
   "cell_type": "code",
   "execution_count": null,
   "metadata": {
    "colab": {},
    "colab_type": "code",
    "id": "ykETlollcv4u"
   },
   "outputs": [],
   "source": [
    "import numpy as np\n",
    "import matplotlib.pyplot as plt\n",
    "from imageio import imread\n",
    "\n",
    "%matplotlib inline "
   ]
  },
  {
   "cell_type": "markdown",
   "metadata": {
    "colab_type": "text",
    "id": "k9u5nrI8cv4y"
   },
   "source": [
    "# Part a)"
   ]
  },
  {
   "cell_type": "code",
   "execution_count": null,
   "metadata": {
    "colab": {},
    "colab_type": "code",
    "id": "7N73kBYDcv4z"
   },
   "outputs": [],
   "source": [
    "def low_rank_approximation(X, rank):\n",
    "    # YOUR CODE GOES HERE\n",
    "    U, S, V = np.linalg.svd(X, full_matrices = False)\n",
    "    U, S, V = U[:,: rank],np.diag(S[:rank]), V[:rank]\n",
    "    return U @ S @ V\n",
    "\n",
    "def display_ranks(ranks, X):\n",
    "    for rank in ranks:\n",
    "        lr = low_rank_approximation(X, rank)\n",
    "        plt.matshow(lr, cmap = 'gray')\n",
    "        if rank == 280:\n",
    "            plt.title(\"This is the Full-Rank Image\")\n",
    "        else:  \n",
    "            plt.title(\"This is a \" + str(rank) + \" Rank Approximation\")\n",
    "        plt.show()"
   ]
  },
  {
   "cell_type": "code",
   "execution_count": null,
   "metadata": {
    "colab": {
     "base_uri": "https://localhost:8080/",
     "height": 295
    },
    "colab_type": "code",
    "id": "A3WfnABVcv43",
    "outputId": "5442a732-827a-4de9-fe4b-6c7e5056c651"
   },
   "outputs": [],
   "source": [
    "face = imread(\"./data/face.jpg\")"
   ]
  },
  {
   "cell_type": "code",
   "execution_count": null,
   "metadata": {},
   "outputs": [],
   "source": [
    "ranks = [5, 20, 100, 280]\n",
    "display_ranks(ranks, face)"
   ]
  },
  {
   "cell_type": "markdown",
   "metadata": {
    "colab_type": "text",
    "id": "hmwHey7Qcv5B"
   },
   "source": [
    "# Part b)"
   ]
  },
  {
   "cell_type": "code",
   "execution_count": null,
   "metadata": {
    "colab": {
     "base_uri": "https://localhost:8080/",
     "height": 295
    },
    "colab_type": "code",
    "id": "GHuwODLKjiaC",
    "outputId": "b92c9c79-9c9b-4574-ea2e-71b2e799f8c1"
   },
   "outputs": [],
   "source": [
    "sky = imread(\"./data/sky.jpg\")"
   ]
  },
  {
   "cell_type": "code",
   "execution_count": null,
   "metadata": {},
   "outputs": [],
   "source": [
    "display_ranks(ranks, sky)"
   ]
  },
  {
   "cell_type": "markdown",
   "metadata": {
    "colab_type": "text",
    "id": "mIJvy0OFcv5H"
   },
   "source": [
    "# Part c)"
   ]
  },
  {
   "cell_type": "code",
   "execution_count": null,
   "metadata": {
    "colab": {},
    "colab_type": "code",
    "id": "pTkmriVJcv5B"
   },
   "outputs": [],
   "source": [
    "def mse(img1, img2):\n",
    "    # YOUR CODE GOES HERE \n",
    "    w,h = img1.shape[0], img1.shape[1] \n",
    "    diff_squared = (img1 - img2) * (img1 - img2) \n",
    "    return (1 / (w * h)) * np.sum(diff_squared)"
   ]
  },
  {
   "cell_type": "code",
   "execution_count": null,
   "metadata": {},
   "outputs": [],
   "source": [
    "face_error, sky_error = [], []\n",
    "for k in range(100):\n",
    "    lr = low_rank_approximation(face, k)\n",
    "    face_error.append(mse(lr, face))\n",
    "    lr = low_rank_approximation(sky, k)\n",
    "    sky_error.append(mse(lr, sky))"
   ]
  },
  {
   "cell_type": "code",
   "execution_count": null,
   "metadata": {},
   "outputs": [],
   "source": [
    "plt.plot(face_error, label = 'Face.jpg')\n",
    "plt.plot(sky_error, label = 'Sky.jpg')\n",
    "plt.title(\"MSE Errors of Differing K-rank approximations of images\")\n",
    "plt.legend()"
   ]
  },
  {
   "cell_type": "markdown",
   "metadata": {},
   "source": [
    "# Part D"
   ]
  },
  {
   "cell_type": "code",
   "execution_count": null,
   "metadata": {},
   "outputs": [],
   "source": [
    "ranks = list(range(1,100, 2))\n",
    "display_ranks(ranks, sky)"
   ]
  },
  {
   "cell_type": "code",
   "execution_count": null,
   "metadata": {},
   "outputs": [],
   "source": [
    "display_ranks(ranks, face)"
   ]
  },
  {
   "cell_type": "code",
   "execution_count": null,
   "metadata": {},
   "outputs": [],
   "source": []
  }
 ],
 "metadata": {
  "anaconda-cloud": {},
  "colab": {
   "collapsed_sections": [],
   "name": "low_rank.ipynb",
   "provenance": [],
   "version": "0.3.2"
  },
  "kernelspec": {
   "display_name": "Python 3",
   "language": "python",
   "name": "python3"
  },
  "language_info": {
   "codemirror_mode": {
    "name": "ipython",
    "version": 3
   },
   "file_extension": ".py",
   "mimetype": "text/x-python",
   "name": "python",
   "nbconvert_exporter": "python",
   "pygments_lexer": "ipython3",
   "version": "3.6.5"
  }
 },
 "nbformat": 4,
 "nbformat_minor": 1
}
